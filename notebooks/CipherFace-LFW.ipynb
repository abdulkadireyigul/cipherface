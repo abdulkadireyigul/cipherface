{
 "cells": [
  {
   "cell_type": "markdown",
   "metadata": {},
   "source": [
    "# CipherFace"
   ]
  },
  {
   "cell_type": "code",
   "execution_count": 1,
   "metadata": {},
   "outputs": [
    {
     "name": "stderr",
     "output_type": "stream",
     "text": [
      "2024-12-16 17:19:51.929023: I tensorflow/core/util/util.cc:169] oneDNN custom operations are on. You may see slightly different numerical results due to floating-point round-off errors from different computation orders. To turn them off, set the environment variable `TF_ENABLE_ONEDNN_OPTS=0`.\n",
      "2024-12-16 17:19:52.030094: W tensorflow/stream_executor/platform/default/dso_loader.cc:64] Could not load dynamic library 'libcudart.so.11.0'; dlerror: libcudart.so.11.0: cannot open shared object file: No such file or directory\n",
      "2024-12-16 17:19:52.030126: I tensorflow/stream_executor/cuda/cudart_stub.cc:29] Ignore above cudart dlerror if you do not have a GPU set up on your machine.\n"
     ]
    }
   ],
   "source": [
    "# built-in dependencies\n",
    "import os\n",
    "import time\n",
    "from typing import List\n",
    "import pickle\n",
    "import base64\n",
    "import warnings\n",
    "warnings.filterwarnings('ignore')\n",
    "\n",
    "# 3rd party dependencies\n",
    "from tqdm import tqdm\n",
    "import numpy as np\n",
    "import pandas as pd\n",
    "import matplotlib.pyplot as plt\n",
    "from sklearn.datasets import fetch_lfw_pairs\n",
    "from deepface import DeepFace\n",
    "import tenseal as ts"
   ]
  },
  {
   "cell_type": "code",
   "execution_count": 2,
   "metadata": {},
   "outputs": [
    {
     "name": "stdout",
     "output_type": "stream",
     "text": [
      "Experiments done in DeepFace 0.0.94\n"
     ]
    }
   ],
   "source": [
    "print(f\"Experiments done in DeepFace {DeepFace.__version__}\")"
   ]
  },
  {
   "cell_type": "code",
   "execution_count": 3,
   "metadata": {},
   "outputs": [],
   "source": [
    "detector_backend = \"mtcnn\"\n",
    "model_name = \"Facenet512\" # Set to \"Facenet\", \"Facenet512\" or \"VGG-Face\"\n",
    "distance_metric = \"cosine\" # Set to euclidean, cosine"
   ]
  },
  {
   "cell_type": "code",
   "execution_count": 4,
   "metadata": {},
   "outputs": [],
   "source": [
    "# tenseal cryptosystem configurations - these are all offering 128-bit security\n",
    "configs = [\n",
    "    (8192, [60, 40, 40, 60], 40),\n",
    "    (16384, [31, 60, 60, 60, 60, 60, 60, 31], 60),\n",
    "]\n",
    "\n",
    "# set your crytosystem's configuration here\n",
    "cs_config = configs[1]"
   ]
  },
  {
   "cell_type": "code",
   "execution_count": null,
   "metadata": {},
   "outputs": [],
   "source": [
    "config = {\n",
    "    \"Facenet512\": {\n",
    "        \"euclidean\": 24.35,\n",
    "        # \"cosine\": 0.026798495128309553,\n",
    "        \"cosine\": 0.02232566879533769,\n",
    "        \n",
    "    },\n",
    "    \"Facenet\": {\n",
    "        \"euclidean\": 12.28,\n",
    "        \"cosine\": 0.02431508799003538,\n",
    "    },\n",
    "    \"VGG-Face\": {\n",
    "        \"euclidean\": 1.17,\n",
    "        \"cosine\": 0.663973458216446,\n",
    "    }\n",
    "}\n",
    "\n",
    "threshold = config[model_name][distance_metric]"
   ]
  },
  {
   "cell_type": "markdown",
   "metadata": {},
   "source": [
    "# Prepare LFW Dataset"
   ]
  },
  {
   "cell_type": "code",
   "execution_count": 6,
   "metadata": {},
   "outputs": [],
   "source": [
    "target_path = \"../lfwe/test\"\n",
    "lfw_input_file = \"../dataset/test_lfw.npy\"\n",
    "lfw_label_file = \"../dataset/test_labels.npy\""
   ]
  },
  {
   "cell_type": "code",
   "execution_count": 7,
   "metadata": {},
   "outputs": [
    {
     "name": "stdout",
     "output_type": "stream",
     "text": [
      "LFW dataset is already pulled\n"
     ]
    }
   ],
   "source": [
    "if os.path.exists(lfw_input_file) is False:\n",
    "    print(\"pulling LFW dataset\")\n",
    "    fetch_lfw_pairs = fetch_lfw_pairs(subset = 'test', color = True\n",
    "     , resize = 2\n",
    "     , funneled = False\n",
    "     , slice_=None\n",
    "    )\n",
    "\n",
    "    pairs = fetch_lfw_pairs.pairs\n",
    "    labels = fetch_lfw_pairs.target\n",
    "\n",
    "    np.save(lfw_input_file, pairs)\n",
    "    np.save(lfw_label_file, labels)\n",
    "else:\n",
    "    print(\"LFW dataset is already pulled\")\n",
    "    labels = np.load(lfw_label_file)"
   ]
  },
  {
   "cell_type": "code",
   "execution_count": 8,
   "metadata": {},
   "outputs": [
    {
     "name": "stderr",
     "output_type": "stream",
     "text": [
      "100%|██████████| 1000/1000 [00:00<00:00, 245942.54it/s]\n"
     ]
    }
   ],
   "source": [
    "for i in tqdm(range(0, 1000)):\n",
    "    img1_target = f\"{target_path}/{i}_1.jpg\"\n",
    "    img2_target = f\"{target_path}/{i}_2.jpg\"\n",
    "    \n",
    "    if os.path.exists(img1_target) is False:\n",
    "        img1 = pairs[i][0]\n",
    "        # plt.imsave(img1_target, img1/255) #works for my mac\n",
    "        plt.imsave(img1_target, img1) #works for my debian\n",
    "    \n",
    "    if os.path.exists(img2_target) is False:\n",
    "        img2 = pairs[i][1]\n",
    "        # plt.imsave(img2_target, img2/255) #works for my mac\n",
    "        plt.imsave(img2_target, img2) #works for my debian"
   ]
  },
  {
   "cell_type": "markdown",
   "metadata": {},
   "source": [
    "# Find Embeddings"
   ]
  },
  {
   "cell_type": "code",
   "execution_count": 9,
   "metadata": {},
   "outputs": [],
   "source": [
    "def find_embeddings(img_path: str) -> List[list]:\n",
    "    \"\"\"\n",
    "    Find embeddings of each face appearing in a given image\n",
    "    Args:\n",
    "        img_path (str): given input image\n",
    "    Returns:\n",
    "        results (list): embedding of each face\n",
    "    \"\"\"\n",
    "    if os.path.exists(img_path) is False:\n",
    "        raise ValueError(f\"{img_path} not found\")\n",
    "    \n",
    "    instances = []\n",
    "    img_objs = DeepFace.represent(\n",
    "        img_path = img_path,\n",
    "        model_name = model_name,\n",
    "        detector_backend = detector_backend,\n",
    "        enforce_detection = False,\n",
    "    )\n",
    "\n",
    "    for img_obj in img_objs:\n",
    "        embedding = img_obj[\"embedding\"]\n",
    "        instances.append(embedding)\n",
    "    \n",
    "    return instances"
   ]
  },
  {
   "cell_type": "code",
   "execution_count": 10,
   "metadata": {},
   "outputs": [],
   "source": [
    "img_paths = []\n",
    "for dirpath, dirnames, filenames in os.walk(target_path):\n",
    "    for filename in filenames:\n",
    "        img_path = f\"{dirpath}/{filename}\"\n",
    "        img_paths.append(img_path)"
   ]
  },
  {
   "cell_type": "code",
   "execution_count": 11,
   "metadata": {},
   "outputs": [
    {
     "name": "stdout",
     "output_type": "stream",
     "text": [
      "there are 2000 images available\n"
     ]
    }
   ],
   "source": [
    "print(f\"there are {len(img_paths)} images available\")"
   ]
  },
  {
   "cell_type": "code",
   "execution_count": 12,
   "metadata": {},
   "outputs": [
    {
     "name": "stdout",
     "output_type": "stream",
     "text": [
      "embeddings calculated already\n"
     ]
    }
   ],
   "source": [
    "embeddings_file = f\"embeddings_{model_name}_{detector_backend}.pkl\"\n",
    "\n",
    "if os.path.exists(embeddings_file) is False:\n",
    "    instances = []\n",
    "    for img_path in tqdm(img_paths):\n",
    "        embeddings = find_embeddings(img_path)\n",
    "        for embedding in embeddings:\n",
    "            instances.append((img_path, embedding))\n",
    "\n",
    "    with open(embeddings_file, 'wb') as file:\n",
    "        pickle.dump(instances, file)\n",
    "else:\n",
    "    print(\"embeddings calculated already\")\n",
    "    with open(embeddings_file, 'rb') as file:\n",
    "        instances = pickle.load(file)"
   ]
  },
  {
   "cell_type": "code",
   "execution_count": 13,
   "metadata": {},
   "outputs": [
    {
     "name": "stdout",
     "output_type": "stream",
     "text": [
      "min: -4.779830455780029, max: 4.792800426483154\n"
     ]
    }
   ],
   "source": [
    "# while calculating distance in euclidean, squared values calculated, so negative values are not a problem\n",
    "# but negative values in embeddings confuse the homomorphic encryption, apply min max normalization\n",
    "if distance_metric == \"cosine\":\n",
    "    min_val = np.inf\n",
    "    max_val = -np.inf\n",
    "    for img_path, embedding in instances:\n",
    "        for i in embedding:\n",
    "            if i < min_val:\n",
    "                min_val = i\n",
    "            if i > max_val:\n",
    "                max_val = i\n",
    "\n",
    "    print(f\"min: {min_val}, max: {max_val}\")\n",
    "\n",
    "    for img_path, embedding in instances:\n",
    "        for i in range(len(embedding)):\n",
    "            embedding[i] = ( (np.array(embedding[i]) - min_val) / (max_val - min_val) ).tolist()"
   ]
  },
  {
   "cell_type": "code",
   "execution_count": 14,
   "metadata": {},
   "outputs": [],
   "source": [
    "# normalize vectors in advance for cosine similarity\n",
    "norm_instances = []\n",
    "if distance_metric == \"cosine\":\n",
    "    for img_path, embedding in instances:\n",
    "        norm = np.linalg.norm(embedding)\n",
    "        norm_instances.append((img_path, embedding / norm))\n",
    "    instances = norm_instances"
   ]
  },
  {
   "cell_type": "markdown",
   "metadata": {},
   "source": [
    "# Performance On Plain Embeddings"
   ]
  },
  {
   "cell_type": "code",
   "execution_count": 15,
   "metadata": {},
   "outputs": [],
   "source": [
    "columns = [\"img_path\", \"embedding\"]\n",
    "\n",
    "df = pd.DataFrame(instances, columns = columns)"
   ]
  },
  {
   "cell_type": "code",
   "execution_count": 16,
   "metadata": {},
   "outputs": [
    {
     "data": {
      "text/html": [
       "<div>\n",
       "<style scoped>\n",
       "    .dataframe tbody tr th:only-of-type {\n",
       "        vertical-align: middle;\n",
       "    }\n",
       "\n",
       "    .dataframe tbody tr th {\n",
       "        vertical-align: top;\n",
       "    }\n",
       "\n",
       "    .dataframe thead th {\n",
       "        text-align: right;\n",
       "    }\n",
       "</style>\n",
       "<table border=\"1\" class=\"dataframe\">\n",
       "  <thead>\n",
       "    <tr style=\"text-align: right;\">\n",
       "      <th></th>\n",
       "      <th>img_path</th>\n",
       "      <th>embedding</th>\n",
       "    </tr>\n",
       "  </thead>\n",
       "  <tbody>\n",
       "    <tr>\n",
       "      <th>0</th>\n",
       "      <td>../lfwe/test/253_2.jpg</td>\n",
       "      <td>[0.06216024060562548, 0.04315538045304618, 0.0...</td>\n",
       "    </tr>\n",
       "    <tr>\n",
       "      <th>1</th>\n",
       "      <td>../lfwe/test/858_1.jpg</td>\n",
       "      <td>[0.03829266215076155, 0.06136259995523283, 0.0...</td>\n",
       "    </tr>\n",
       "    <tr>\n",
       "      <th>2</th>\n",
       "      <td>../lfwe/test/214_1.jpg</td>\n",
       "      <td>[0.04578124460758277, 0.05695021381085548, 0.0...</td>\n",
       "    </tr>\n",
       "    <tr>\n",
       "      <th>3</th>\n",
       "      <td>../lfwe/test/104_2.jpg</td>\n",
       "      <td>[0.04828243252411915, 0.05915359048645701, 0.0...</td>\n",
       "    </tr>\n",
       "    <tr>\n",
       "      <th>4</th>\n",
       "      <td>../lfwe/test/104_2.jpg</td>\n",
       "      <td>[0.03571250223695061, 0.03882295279330867, 0.0...</td>\n",
       "    </tr>\n",
       "  </tbody>\n",
       "</table>\n",
       "</div>"
      ],
      "text/plain": [
       "                 img_path                                          embedding\n",
       "0  ../lfwe/test/253_2.jpg  [0.06216024060562548, 0.04315538045304618, 0.0...\n",
       "1  ../lfwe/test/858_1.jpg  [0.03829266215076155, 0.06136259995523283, 0.0...\n",
       "2  ../lfwe/test/214_1.jpg  [0.04578124460758277, 0.05695021381085548, 0.0...\n",
       "3  ../lfwe/test/104_2.jpg  [0.04828243252411915, 0.05915359048645701, 0.0...\n",
       "4  ../lfwe/test/104_2.jpg  [0.03571250223695061, 0.03882295279330867, 0.0..."
      ]
     },
     "execution_count": 16,
     "metadata": {},
     "output_type": "execute_result"
    }
   ],
   "source": [
    "df.head()"
   ]
  },
  {
   "cell_type": "code",
   "execution_count": 17,
   "metadata": {},
   "outputs": [],
   "source": [
    "def find_euclidean_distance(\n",
    "    source_representation: list, test_representation: list\n",
    ") -> np.float64:\n",
    "    \"\"\"\n",
    "    Find Euclidean distance between two vectors or batches of vectors.\n",
    "\n",
    "    Args:\n",
    "        source_representation (list): 1st vector or batch of vectors.\n",
    "        test_representation (list): 2nd vector or batch of vectors.\n",
    "\n",
    "    Returns:\n",
    "        np.float64: Euclidean distance(s).\n",
    "            Returns a np.float64 for single embeddings and np.ndarray for batch embeddings.\n",
    "    \"\"\"\n",
    "    source_representation = np.asarray(source_representation)\n",
    "    test_representation = np.asarray(test_representation)\n",
    "\n",
    "    euclidean_distance = source_representation - test_representation\n",
    "    euclidean_distance = np.sum(np.multiply(euclidean_distance, euclidean_distance))\n",
    "    euclidean_distance = np.sqrt(euclidean_distance)\n",
    "\n",
    "    return euclidean_distance\n",
    "\n",
    "def find_cosine_distance(\n",
    "    source_representation: list, test_representation: list\n",
    ") -> np.float64:\n",
    "    # Convert lists to numpy arrays for efficient computation\n",
    "    source_vector = np.array(source_representation)\n",
    "    test_vector = np.array(test_representation)\n",
    "    \n",
    "    # Compute the dot product\n",
    "    dot_product = np.dot(source_vector, test_vector)\n",
    "    \n",
    "    # Compute the norms (magnitudes) of the vectors\n",
    "    norm_source = np.linalg.norm(source_vector)\n",
    "    norm_test = np.linalg.norm(test_vector)\n",
    "    \n",
    "    # Compute cosine similarity\n",
    "    cosine_similarity = dot_product / (norm_source * norm_test)\n",
    "    \n",
    "    # Compute cosine distance\n",
    "    cosine_distance = 1 - cosine_similarity\n",
    "    return cosine_distance\n",
    "\n",
    "def norm(x: list) -> np.ndarray:\n",
    "    \"\"\"\n",
    "    Normalize input vector with l2\n",
    "    Args:\n",
    "        x (np.ndarray or list): given vector\n",
    "    Returns:\n",
    "        y (np.ndarray): l2 normalized vector\n",
    "    \"\"\"\n",
    "    # x = np.array(x)\n",
    "    # return x / np.sqrt(np.sum(np.multiply(x, x)))\n",
    "    return np.linalg.norm(x)"
   ]
  },
  {
   "cell_type": "code",
   "execution_count": 18,
   "metadata": {},
   "outputs": [
    {
     "name": "stderr",
     "output_type": "stream",
     "text": [
      "100%|██████████| 1000/1000 [00:00<00:00, 1803.14it/s]\n"
     ]
    }
   ],
   "source": [
    "pivot_distances = []\n",
    "for i in tqdm(range(0, 1000)):\n",
    "    img1_target = f\"../lfwe/test/{i}_1.jpg\"\n",
    "    img2_target = f\"../lfwe/test/{i}_2.jpg\"\n",
    "\n",
    "    alphas = df[df[\"img_path\"] == img1_target][\"embedding\"].values\n",
    "    betas = df[df[\"img_path\"] == img2_target][\"embedding\"].values\n",
    "\n",
    "    distances = []\n",
    "    for alpha in alphas:\n",
    "        for beta in betas:\n",
    "            if distance_metric == \"euclidean\":\n",
    "                distance = find_euclidean_distance(alpha, beta)\n",
    "            else:\n",
    "                distance = find_cosine_distance(alpha, beta)\n",
    "            distances.append(distance)\n",
    "    \n",
    "    distance = min(distances)\n",
    "    pivot_distances.append(distance)"
   ]
  },
  {
   "cell_type": "code",
   "execution_count": 19,
   "metadata": {},
   "outputs": [],
   "source": [
    "pivot = pd.DataFrame(pivot_distances, columns = [\"distance\"])\n",
    "pivot[\"actual\"] = labels\n",
    "\n",
    "pivot[\"prediction\"] = 0\n",
    "tic = time.time()\n",
    "idx = pivot[pivot[\"distance\"] < threshold].index\n",
    "pivot.loc[idx, \"prediction\"] = 1\n",
    "toc = time.time()"
   ]
  },
  {
   "cell_type": "code",
   "execution_count": 20,
   "metadata": {},
   "outputs": [
    {
     "data": {
      "text/html": [
       "<div>\n",
       "<style scoped>\n",
       "    .dataframe tbody tr th:only-of-type {\n",
       "        vertical-align: middle;\n",
       "    }\n",
       "\n",
       "    .dataframe tbody tr th {\n",
       "        vertical-align: top;\n",
       "    }\n",
       "\n",
       "    .dataframe thead th {\n",
       "        text-align: right;\n",
       "    }\n",
       "</style>\n",
       "<table border=\"1\" class=\"dataframe\">\n",
       "  <thead>\n",
       "    <tr style=\"text-align: right;\">\n",
       "      <th></th>\n",
       "      <th>distance</th>\n",
       "      <th>actual</th>\n",
       "      <th>prediction</th>\n",
       "    </tr>\n",
       "  </thead>\n",
       "  <tbody>\n",
       "    <tr>\n",
       "      <th>0</th>\n",
       "      <td>0.005686</td>\n",
       "      <td>1</td>\n",
       "      <td>1</td>\n",
       "    </tr>\n",
       "    <tr>\n",
       "      <th>1</th>\n",
       "      <td>0.016665</td>\n",
       "      <td>1</td>\n",
       "      <td>1</td>\n",
       "    </tr>\n",
       "    <tr>\n",
       "      <th>2</th>\n",
       "      <td>0.017489</td>\n",
       "      <td>1</td>\n",
       "      <td>1</td>\n",
       "    </tr>\n",
       "    <tr>\n",
       "      <th>3</th>\n",
       "      <td>0.005010</td>\n",
       "      <td>1</td>\n",
       "      <td>1</td>\n",
       "    </tr>\n",
       "    <tr>\n",
       "      <th>4</th>\n",
       "      <td>0.012855</td>\n",
       "      <td>1</td>\n",
       "      <td>1</td>\n",
       "    </tr>\n",
       "  </tbody>\n",
       "</table>\n",
       "</div>"
      ],
      "text/plain": [
       "   distance  actual  prediction\n",
       "0  0.005686       1           1\n",
       "1  0.016665       1           1\n",
       "2  0.017489       1           1\n",
       "3  0.005010       1           1\n",
       "4  0.012855       1           1"
      ]
     },
     "execution_count": 20,
     "metadata": {},
     "output_type": "execute_result"
    }
   ],
   "source": [
    "pivot.head()"
   ]
  },
  {
   "cell_type": "code",
   "execution_count": 21,
   "metadata": {},
   "outputs": [],
   "source": [
    "# to find the best threshold\n",
    "if False:\n",
    "    tmp_df = pivot[[\"distance\", \"actual\"]].copy()\n",
    "    idx = tmp_df[tmp_df[\"actual\"] == 1].index\n",
    "    tmp_df[\"Decision\"] = \"Different Persons\"\n",
    "    tmp_df.loc[idx, \"Decision\"] = \"Same Person\"\n",
    "    tmp_df = tmp_df.drop(columns = [\"actual\"])\n",
    "\n",
    "    from chefboost import Chefboost\n",
    "    Chefboost.fit(tmp_df)"
   ]
  },
  {
   "cell_type": "code",
   "execution_count": 22,
   "metadata": {},
   "outputs": [
    {
     "name": "stdout",
     "output_type": "stream",
     "text": [
      "verification requires an additional 0.003953218460083008 seconds\n"
     ]
    }
   ],
   "source": [
    "print(f\"verification requires an additional {toc - tic} seconds\")"
   ]
  },
  {
   "cell_type": "code",
   "execution_count": 23,
   "metadata": {},
   "outputs": [],
   "source": [
    "accuracy = 100 * len(pivot[pivot[\"actual\"] == pivot[\"prediction\"]]) / 1000"
   ]
  },
  {
   "cell_type": "code",
   "execution_count": 24,
   "metadata": {},
   "outputs": [],
   "source": [
    "# pivot[pivot.actual == 1].distance.plot.kde()\n",
    "# pivot[pivot.actual == 0].distance.plot.kde()"
   ]
  },
  {
   "cell_type": "code",
   "execution_count": 25,
   "metadata": {},
   "outputs": [
    {
     "name": "stdout",
     "output_type": "stream",
     "text": [
      "accuracy=94.9\n"
     ]
    }
   ],
   "source": [
    "print(f\"{accuracy=}\")"
   ]
  },
  {
   "cell_type": "markdown",
   "metadata": {},
   "source": [
    "# Initialize Homomorphic Enryption Object"
   ]
  },
  {
   "cell_type": "code",
   "execution_count": 26,
   "metadata": {},
   "outputs": [],
   "source": [
    "def write_data(file_name, data):\n",
    "    if type(data) == bytes:\n",
    "        #bytes to base64\n",
    "        data = base64.b64encode(data)\n",
    "        \n",
    "    with open(file_name, 'wb') as f: \n",
    "        f.write(data)\n",
    "\n",
    "def read_data(file_name):\n",
    "    with open(file_name, \"rb\") as f:\n",
    "        data = f.read()\n",
    "    \n",
    "    #base64 to bytes\n",
    "    return base64.b64decode(data)"
   ]
  },
  {
   "cell_type": "code",
   "execution_count": 27,
   "metadata": {},
   "outputs": [],
   "source": [
    "mod, coeff, scale = cs_config\n",
    "context = ts.context(\n",
    "            ts.SCHEME_TYPE.CKKS,\n",
    "            poly_modulus_degree = mod,\n",
    "            coeff_mod_bit_sizes = coeff\n",
    "          )\n",
    "context.generate_galois_keys()\n",
    "context.global_scale = 2**scale\n",
    "\n",
    "secret_context = context.serialize(save_secret_key = True)\n",
    "write_data(\"secret.txt\", secret_context)\n",
    "\n",
    "context.make_context_public() #drop the secret_key from the context\n",
    "public_context = context.serialize()\n",
    "write_data(\"public.txt\", public_context)\n",
    "\n",
    "del context, secret_context, public_context"
   ]
  },
  {
   "cell_type": "markdown",
   "metadata": {},
   "source": [
    "# Encryption"
   ]
  },
  {
   "cell_type": "code",
   "execution_count": 31,
   "metadata": {},
   "outputs": [],
   "source": [
    "context = ts.context_from(read_data(\"secret.txt\"))\n",
    "# context = ts.context_from(read_data(\"public.txt\")) # encryption can be done with public key, too"
   ]
  },
  {
   "cell_type": "code",
   "execution_count": 32,
   "metadata": {},
   "outputs": [
    {
     "name": "stderr",
     "output_type": "stream",
     "text": [
      "100%|██████████| 2473/2473 [00:58<00:00, 42.37it/s]\n"
     ]
    }
   ],
   "source": [
    "encrypted_embeddings = []\n",
    "for index, instance in tqdm(df.iterrows(), total=df.shape[0]):\n",
    "    img_path = instance[\"img_path\"]\n",
    "\n",
    "    embedding = instance[\"embedding\"]\n",
    "    enc_v1 = ts.ckks_vector(context, embedding)\n",
    "    encrypted_embedding = enc_v1.serialize()\n",
    "    encrypted_embeddings.append(encrypted_embedding)"
   ]
  },
  {
   "cell_type": "code",
   "execution_count": 33,
   "metadata": {},
   "outputs": [],
   "source": [
    "encrypted_df = df.copy()\n",
    "encrypted_df = encrypted_df.drop(columns = [\"embedding\"])\n",
    "encrypted_df[\"encrypted_embedding\"] = encrypted_embeddings"
   ]
  },
  {
   "cell_type": "code",
   "execution_count": 34,
   "metadata": {},
   "outputs": [
    {
     "data": {
      "text/html": [
       "<div>\n",
       "<style scoped>\n",
       "    .dataframe tbody tr th:only-of-type {\n",
       "        vertical-align: middle;\n",
       "    }\n",
       "\n",
       "    .dataframe tbody tr th {\n",
       "        vertical-align: top;\n",
       "    }\n",
       "\n",
       "    .dataframe thead th {\n",
       "        text-align: right;\n",
       "    }\n",
       "</style>\n",
       "<table border=\"1\" class=\"dataframe\">\n",
       "  <thead>\n",
       "    <tr style=\"text-align: right;\">\n",
       "      <th></th>\n",
       "      <th>img_path</th>\n",
       "      <th>encrypted_embedding</th>\n",
       "    </tr>\n",
       "  </thead>\n",
       "  <tbody>\n",
       "    <tr>\n",
       "      <th>0</th>\n",
       "      <td>../lfwe/test/253_2.jpg</td>\n",
       "      <td>b'\\n\\x02\\x80\\x04\\x12\\xbf\\xdeh^\\xa1\\x10\\x04\\x01...</td>\n",
       "    </tr>\n",
       "    <tr>\n",
       "      <th>1</th>\n",
       "      <td>../lfwe/test/858_1.jpg</td>\n",
       "      <td>b'\\n\\x02\\x80\\x04\\x12\\xf5\\xddh^\\xa1\\x10\\x04\\x01...</td>\n",
       "    </tr>\n",
       "    <tr>\n",
       "      <th>2</th>\n",
       "      <td>../lfwe/test/214_1.jpg</td>\n",
       "      <td>b'\\n\\x02\\x80\\x04\\x12\\xfd\\xddh^\\xa1\\x10\\x04\\x01...</td>\n",
       "    </tr>\n",
       "    <tr>\n",
       "      <th>3</th>\n",
       "      <td>../lfwe/test/104_2.jpg</td>\n",
       "      <td>b'\\n\\x02\\x80\\x04\\x12\\xb3\\xddh^\\xa1\\x10\\x04\\x01...</td>\n",
       "    </tr>\n",
       "    <tr>\n",
       "      <th>4</th>\n",
       "      <td>../lfwe/test/104_2.jpg</td>\n",
       "      <td>b'\\n\\x02\\x80\\x04\\x12\\xc3\\xddh^\\xa1\\x10\\x04\\x01...</td>\n",
       "    </tr>\n",
       "  </tbody>\n",
       "</table>\n",
       "</div>"
      ],
      "text/plain": [
       "                 img_path                                encrypted_embedding\n",
       "0  ../lfwe/test/253_2.jpg  b'\\n\\x02\\x80\\x04\\x12\\xbf\\xdeh^\\xa1\\x10\\x04\\x01...\n",
       "1  ../lfwe/test/858_1.jpg  b'\\n\\x02\\x80\\x04\\x12\\xf5\\xddh^\\xa1\\x10\\x04\\x01...\n",
       "2  ../lfwe/test/214_1.jpg  b'\\n\\x02\\x80\\x04\\x12\\xfd\\xddh^\\xa1\\x10\\x04\\x01...\n",
       "3  ../lfwe/test/104_2.jpg  b'\\n\\x02\\x80\\x04\\x12\\xb3\\xddh^\\xa1\\x10\\x04\\x01...\n",
       "4  ../lfwe/test/104_2.jpg  b'\\n\\x02\\x80\\x04\\x12\\xc3\\xddh^\\xa1\\x10\\x04\\x01..."
      ]
     },
     "execution_count": 34,
     "metadata": {},
     "output_type": "execute_result"
    }
   ],
   "source": [
    "encrypted_df.head()"
   ]
  },
  {
   "cell_type": "code",
   "execution_count": 35,
   "metadata": {},
   "outputs": [],
   "source": [
    "del context, enc_v1, encrypted_embedding"
   ]
  },
  {
   "cell_type": "markdown",
   "metadata": {},
   "source": [
    "# Homomorphic Calculations"
   ]
  },
  {
   "cell_type": "code",
   "execution_count": 36,
   "metadata": {},
   "outputs": [],
   "source": [
    "context = ts.context_from(read_data(\"public.txt\"))"
   ]
  },
  {
   "cell_type": "code",
   "execution_count": 37,
   "metadata": {},
   "outputs": [],
   "source": [
    "one = ts.ckks_vector(context, [1])\n",
    "one.link_context(context)"
   ]
  },
  {
   "cell_type": "code",
   "execution_count": 38,
   "metadata": {},
   "outputs": [
    {
     "name": "stderr",
     "output_type": "stream",
     "text": [
      "100%|██████████| 1000/1000 [04:32<00:00,  3.67it/s]\n"
     ]
    }
   ],
   "source": [
    "calculations = []\n",
    "for i in tqdm(range(0, 1000)):\n",
    "    img1_target = f\"../lfwe/test/{i}_1.jpg\"\n",
    "    img2_target = f\"../lfwe/test/{i}_2.jpg\"\n",
    "\n",
    "    alphas_idxs = encrypted_df[encrypted_df[\"img_path\"] == img1_target].index\n",
    "    betas_idxs = encrypted_df[encrypted_df[\"img_path\"] == img2_target].index\n",
    "\n",
    "    encrypted_distances = []\n",
    "    encrypted_distance_denominators = []\n",
    "    for alphas_idx in alphas_idxs:\n",
    "        alpha_proto = encrypted_df.loc[alphas_idx][\"encrypted_embedding\"]\n",
    "        alpha = ts.lazy_ckks_vector_from(alpha_proto)\n",
    "        alpha.link_context(context)\n",
    "\n",
    "        for betas_idx in betas_idxs:\n",
    "            beta_proto = encrypted_df.loc[betas_idx][\"encrypted_embedding\"]\n",
    "            beta = ts.lazy_ckks_vector_from(beta_proto)\n",
    "            beta.link_context(context)\n",
    "\n",
    "            if distance_metric == \"euclidean\":\n",
    "                difference = alpha - beta\n",
    "                encrypted_distance = difference.dot(difference)\n",
    "\n",
    "                # if you try to decrypt it here, you will get exception because you don't have the private key\n",
    "                # encrypted_squared_distance.decrypt()\n",
    "\n",
    "            else:\n",
    "                encrypted_distance = one - alpha.dot(beta)\n",
    "            \n",
    "            encrypted_distance = encrypted_distance.serialize()\n",
    "            encrypted_distances.append(encrypted_distance)\n",
    "\n",
    "    calculations.append((img1_target, img2_target, encrypted_distances))"
   ]
  },
  {
   "cell_type": "code",
   "execution_count": 39,
   "metadata": {},
   "outputs": [],
   "source": [
    "del context, alpha_proto, beta_proto, alpha, beta"
   ]
  },
  {
   "cell_type": "markdown",
   "metadata": {},
   "source": [
    "# Decryption"
   ]
  },
  {
   "cell_type": "code",
   "execution_count": 40,
   "metadata": {},
   "outputs": [],
   "source": [
    "context = ts.context_from(read_data(\"secret.txt\"))"
   ]
  },
  {
   "cell_type": "code",
   "execution_count": 41,
   "metadata": {},
   "outputs": [
    {
     "name": "stderr",
     "output_type": "stream",
     "text": [
      "100%|██████████| 1000/1000 [00:11<00:00, 83.57it/s]\n"
     ]
    }
   ],
   "source": [
    "distances = []\n",
    "for img1_path, img2_path, encrypted_distances in tqdm(calculations):\n",
    "\n",
    "    current_distances = []\n",
    "    for encrypted_distance_proto in encrypted_distances:\n",
    "        encrypted_distance = ts.lazy_ckks_vector_from(encrypted_distance_proto)\n",
    "        encrypted_distance.link_context(context)\n",
    "\n",
    "        distance = encrypted_distance.decrypt()[0]\n",
    "\n",
    "        current_distances.append(distance)\n",
    "    \n",
    "    distances.append(min(current_distances))"
   ]
  },
  {
   "cell_type": "code",
   "execution_count": 42,
   "metadata": {},
   "outputs": [],
   "source": [
    "results_df = pd.DataFrame(labels, columns = [\"actual\"])\n",
    "results_df[\"distances\"] = distances\n",
    "if distance_metric == \"euclidean\":\n",
    "    results_df[\"threshold\"] = threshold * threshold\n",
    "else:\n",
    "    results_df[\"threshold\"] = threshold\n",
    "\n",
    "results_df[\"prediction\"] = 0\n",
    "tic = time.time()\n",
    "idx = results_df[results_df[\"distances\"] <= results_df[\"threshold\"]].index\n",
    "results_df.loc[idx, \"prediction\"] = 1\n",
    "toc = time.time()"
   ]
  },
  {
   "cell_type": "code",
   "execution_count": 43,
   "metadata": {},
   "outputs": [],
   "source": [
    "# print(f\"verification requires an additional {toc - tic} seconds\")"
   ]
  },
  {
   "cell_type": "code",
   "execution_count": 44,
   "metadata": {},
   "outputs": [
    {
     "data": {
      "text/html": [
       "<div>\n",
       "<style scoped>\n",
       "    .dataframe tbody tr th:only-of-type {\n",
       "        vertical-align: middle;\n",
       "    }\n",
       "\n",
       "    .dataframe tbody tr th {\n",
       "        vertical-align: top;\n",
       "    }\n",
       "\n",
       "    .dataframe thead th {\n",
       "        text-align: right;\n",
       "    }\n",
       "</style>\n",
       "<table border=\"1\" class=\"dataframe\">\n",
       "  <thead>\n",
       "    <tr style=\"text-align: right;\">\n",
       "      <th></th>\n",
       "      <th>actual</th>\n",
       "      <th>distances</th>\n",
       "      <th>threshold</th>\n",
       "      <th>prediction</th>\n",
       "    </tr>\n",
       "  </thead>\n",
       "  <tbody>\n",
       "    <tr>\n",
       "      <th>0</th>\n",
       "      <td>1</td>\n",
       "      <td>0.004778</td>\n",
       "      <td>0.022326</td>\n",
       "      <td>1</td>\n",
       "    </tr>\n",
       "    <tr>\n",
       "      <th>1</th>\n",
       "      <td>1</td>\n",
       "      <td>0.015753</td>\n",
       "      <td>0.022326</td>\n",
       "      <td>1</td>\n",
       "    </tr>\n",
       "    <tr>\n",
       "      <th>2</th>\n",
       "      <td>1</td>\n",
       "      <td>0.016790</td>\n",
       "      <td>0.022326</td>\n",
       "      <td>1</td>\n",
       "    </tr>\n",
       "    <tr>\n",
       "      <th>3</th>\n",
       "      <td>1</td>\n",
       "      <td>0.004142</td>\n",
       "      <td>0.022326</td>\n",
       "      <td>1</td>\n",
       "    </tr>\n",
       "    <tr>\n",
       "      <th>4</th>\n",
       "      <td>1</td>\n",
       "      <td>0.011512</td>\n",
       "      <td>0.022326</td>\n",
       "      <td>1</td>\n",
       "    </tr>\n",
       "  </tbody>\n",
       "</table>\n",
       "</div>"
      ],
      "text/plain": [
       "   actual  distances  threshold  prediction\n",
       "0       1   0.004778   0.022326           1\n",
       "1       1   0.015753   0.022326           1\n",
       "2       1   0.016790   0.022326           1\n",
       "3       1   0.004142   0.022326           1\n",
       "4       1   0.011512   0.022326           1"
      ]
     },
     "execution_count": 44,
     "metadata": {},
     "output_type": "execute_result"
    }
   ],
   "source": [
    "results_df.head()"
   ]
  },
  {
   "cell_type": "code",
   "execution_count": 45,
   "metadata": {},
   "outputs": [
    {
     "data": {
      "text/plain": [
       "actual        1.000000\n",
       "distances     0.029641\n",
       "threshold     0.022326\n",
       "prediction    0.000000\n",
       "Name: 22, dtype: float64"
      ]
     },
     "execution_count": 45,
     "metadata": {},
     "output_type": "execute_result"
    }
   ],
   "source": [
    "results_df.iloc[22]"
   ]
  },
  {
   "cell_type": "code",
   "execution_count": 46,
   "metadata": {},
   "outputs": [
    {
     "name": "stdout",
     "output_type": "stream",
     "text": [
      "accuracy was 94.9 in plain verification whereas it is 95.0\n"
     ]
    }
   ],
   "source": [
    "homomorphic_accuracy = (100 * len(results_df[results_df[\"actual\"] == results_df[\"prediction\"]]) / 1000)\n",
    "print(f\"accuracy was {accuracy} in plain verification whereas it is {homomorphic_accuracy}\")"
   ]
  },
  {
   "cell_type": "code",
   "execution_count": 47,
   "metadata": {},
   "outputs": [],
   "source": [
    "# expect to have same accuracy with plain embedding comparison\n",
    "error = abs(accuracy - homomorphic_accuracy)\n",
    "assert error < 1, f\"{error=}\""
   ]
  },
  {
   "cell_type": "code",
   "execution_count": 48,
   "metadata": {},
   "outputs": [
    {
     "data": {
      "text/plain": [
       "0.09999999999999432"
      ]
     },
     "execution_count": 48,
     "metadata": {},
     "output_type": "execute_result"
    }
   ],
   "source": [
    "error"
   ]
  }
 ],
 "metadata": {
  "kernelspec": {
   "display_name": "base",
   "language": "python",
   "name": "python3"
  },
  "language_info": {
   "codemirror_mode": {
    "name": "ipython",
    "version": 3
   },
   "file_extension": ".py",
   "mimetype": "text/x-python",
   "name": "python",
   "nbconvert_exporter": "python",
   "pygments_lexer": "ipython3",
   "version": "3.9.16"
  }
 },
 "nbformat": 4,
 "nbformat_minor": 2
}
